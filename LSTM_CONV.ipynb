{
 "cells": [
  {
   "cell_type": "code",
   "execution_count": 68,
   "metadata": {},
   "outputs": [],
   "source": [
    "import numpy as np\n",
    "import pandas as pd\n",
    "import matplotlib.pyplot as plt\n",
    "import seaborn as sns\n",
    "from datetime import datetime, timedelta\n",
    "from sklearn.preprocessing import MinMaxScaler\n",
    "from sklearn.metrics import mean_squared_error, mean_absolute_error\n",
    "import tensorflow as tf\n",
    "from tensorflow.keras.models import Model\n",
    "from tensorflow.keras.layers import Dense, LSTM, Dropout, BatchNormalization, Input\n",
    "from tensorflow.keras.layers import Conv1D, Attention, Reshape\n",
    "from tensorflow.keras.layers import MultiHeadAttention, LayerNormalization\n",
    "from tensorflow.keras.callbacks import EarlyStopping, ModelCheckpoint, ReduceLROnPlateau\n",
    "from tensorflow.keras.optimizers import Adam\n",
    "from statsmodels.tsa.seasonal import seasonal_decompose\n",
    "from statsmodels.tsa.stattools import acf"
   ]
  },
  {
   "cell_type": "code",
   "execution_count": 69,
   "metadata": {},
   "outputs": [],
   "source": [
    "plt.style.use('seaborn-v0_8-whitegrid')\n",
    "sns.set_palette(\"deep\")\n",
    "plt.rcParams['figure.figsize'] = [14, 8]\n",
    "plt.rcParams['font.size'] = 12\n",
    "plt.rcParams['axes.grid'] = True"
   ]
  },
  {
   "cell_type": "code",
   "execution_count": 70,
   "metadata": {},
   "outputs": [],
   "source": [
    "np.random.seed(42)\n",
    "tf.random.set_seed(42)"
   ]
  },
  {
   "cell_type": "code",
   "execution_count": 71,
   "metadata": {},
   "outputs": [],
   "source": [
    "df = pd.read_csv('data/PJME_hourly.csv')"
   ]
  },
  {
   "cell_type": "code",
   "execution_count": 72,
   "metadata": {},
   "outputs": [],
   "source": [
    "df['Datetime'] = pd.to_datetime(df['Datetime'])\n",
    "\n",
    "df = df.set_index('Datetime').sort_index() # sắp xếp theo thời gian để chuẩn hóa dữ liệu\n",
    "df = df.resample('h').mean() # ấy trung bình nếu có nhiều điểm trong cùng 1 giờ\n",
    "\n",
    "df['PJME_MW'] = df['PJME_MW'].interpolate(method='time') # nội suy giá trị thiếu theo thời gian"
   ]
  },
  {
   "cell_type": "code",
   "execution_count": 73,
   "metadata": {},
   "outputs": [
    {
     "name": "stdout",
     "output_type": "stream",
     "text": [
      "<class 'pandas.core.frame.DataFrame'>\n",
      "DatetimeIndex: 145392 entries, 2002-01-01 01:00:00 to 2018-08-03 00:00:00\n",
      "Freq: h\n",
      "Data columns (total 1 columns):\n",
      " #   Column   Non-Null Count   Dtype  \n",
      "---  ------   --------------   -----  \n",
      " 0   PJME_MW  145392 non-null  float64\n",
      "dtypes: float64(1)\n",
      "memory usage: 2.2 MB\n"
     ]
    }
   ],
   "source": [
    "df.info()"
   ]
  },
  {
   "cell_type": "code",
   "execution_count": 75,
   "metadata": {},
   "outputs": [
    {
     "name": "stdout",
     "output_type": "stream",
     "text": [
      "Kích thước tập train: 101774\n",
      "Kích thước tập val: 21808\n",
      "Kích thước tập test: 21810\n"
     ]
    }
   ],
   "source": [
    "# Chia tập dữ liệu\n",
    "train_size = int(len(df) * 0.7)\n",
    "val_size = int(len(df) * 0.15)\n",
    "\n",
    "df_train = df.iloc[:train_size].copy()\n",
    "df_val = df.iloc[train_size:train_size+val_size].copy()\n",
    "df_test = df.iloc[train_size+val_size:].copy()\n",
    "\n",
    "print(f\"Kích thước tập train: {len(df_train)}\")\n",
    "print(f\"Kích thước tập val: {len(df_val)}\")\n",
    "print(f\"Kích thước tập test: {len(df_test)}\")"
   ]
  },
  {
   "cell_type": "code",
   "execution_count": 76,
   "metadata": {},
   "outputs": [],
   "source": [
    "# Hàm tạo đặc trưng mới\n",
    "def feature_engineering(df):\n",
    "    df = df.copy()\n",
    "    \n",
    "    # Đặc trưng độ trễ\n",
    "    for lag in [1, 24, 168]:\n",
    "        df[f'lag_{lag}h'] = df['PJME_MW'].shift(lag)\n",
    "    \n",
    "    # Đặc trưng thống kê trượt\n",
    "    for window in [24]:\n",
    "        df[f'rolling_mean_{window}h'] = df['PJME_MW'].rolling(window=window).mean()\n",
    "        df[f'rolling_std_{window}h'] = df['PJME_MW'].rolling(window=window).std()\n",
    "        df[f'rolling_min_{window}h'] = df['PJME_MW'].rolling(window=window).min()\n",
    "        df[f'rolling_max_{window}h'] = df['PJME_MW'].rolling(window=window).max()\n",
    "    \n",
    "    # Differencing\n",
    "    df['diff_1h'] = df['PJME_MW'].diff(1)\n",
    "    df['diff_24h'] = df['PJME_MW'].diff(24)\n",
    "    \n",
    "    return df\n",
    "\n",
    "def fillna(df):\n",
    "    df = df.copy()\n",
    "    \n",
    "    for col in df.columns:\n",
    "        if col.startswith('lag_'):\n",
    "            df[col] = df.groupby(df.index.hour)[col].transform(lambda x: x.fillna(x.mean()))\n",
    "    \n",
    "    for window in [24]:\n",
    "        mask = df[f'rolling_mean_{window}h'].isna()\n",
    "        df.loc[mask, f'rolling_mean_{window}h'] = df.loc[mask, 'PJME_MW']\n",
    "        df[f'rolling_std_{window}h'] = df[f'rolling_std_{window}h'].fillna(0)\n",
    "        df.loc[mask, f'rolling_min_{window}h'] = df.loc[mask, 'PJME_MW']\n",
    "        df.loc[mask, f'rolling_max_{window}h'] = df.loc[mask, 'PJME_MW']\n",
    "    \n",
    "    df['diff_1h'] = df['diff_1h'].fillna(0)\n",
    "    df['diff_24h'] = df['diff_24h'].fillna(0)\n",
    "    \n",
    "    return df"
   ]
  },
  {
   "cell_type": "code",
   "execution_count": 77,
   "metadata": {},
   "outputs": [],
   "source": [
    "df_train_fe = feature_engineering(df_train)\n",
    "df_val_fe = feature_engineering(df_val)\n",
    "df_test_fe = feature_engineering(df_test)\n",
    "\n",
    "df_train_filled = fillna(df_train_fe)\n",
    "df_val_filled = fillna(df_val_fe)\n",
    "df_test_filled = fillna(df_test_fe)"
   ]
  },
  {
   "cell_type": "code",
   "execution_count": 78,
   "metadata": {},
   "outputs": [],
   "source": [
    "def create_time_features(df):\n",
    "    df = df.copy()\n",
    "    \n",
    "    df['hour'] = df.index.hour\n",
    "    df['dayofweek'] = df.index.dayofweek\n",
    "    df['month'] = df.index.month\n",
    "    \n",
    "    # Đặc trưng thời điểm\n",
    "    df['season'] = ((df['month'] % 12) // 3) / 4  # 0, 0.25, 0.5, 0.75\n",
    "    \n",
    "    return df"
   ]
  },
  {
   "cell_type": "code",
   "execution_count": 79,
   "metadata": {},
   "outputs": [],
   "source": [
    "df_train_processed = create_time_features(df_train_filled)\n",
    "df_val_processed = create_time_features(df_val_filled)\n",
    "df_test_processed = create_time_features(df_test_filled)"
   ]
  },
  {
   "cell_type": "code",
   "execution_count": 80,
   "metadata": {},
   "outputs": [],
   "source": [
    "target_scaler = MinMaxScaler()\n",
    "df_train_processed['PJME_MW_scaled'] = target_scaler.fit_transform(df_train_processed[['PJME_MW']])\n",
    "df_val_processed['PJME_MW_scaled'] = target_scaler.transform(df_val_processed[['PJME_MW']])\n",
    "df_test_processed['PJME_MW_scaled'] = target_scaler.transform(df_test_processed[['PJME_MW']])"
   ]
  },
  {
   "cell_type": "code",
   "execution_count": 84,
   "metadata": {},
   "outputs": [
    {
     "name": "stdout",
     "output_type": "stream",
     "text": [
      "Vị trí của target trong danh sách đặc trưng: 14\n",
      "Hình dạng X_train: (101750, 24, 15), y_train: (101750,)\n",
      "Hình dạng X_val: (21784, 24, 15), y_val: (21784,)\n",
      "Hình dạng X_test: (21786, 24, 15), y_test: (21786,)\n"
     ]
    }
   ],
   "source": [
    "seq_length = 24 \n",
    "\n",
    "# Hàm tạo chuỗi\n",
    "def create_sequences(data, feature_cols, target_col, seq_length):\n",
    "    feature_data = data[feature_cols].values\n",
    "    target_data = data[target_col].values\n",
    "    \n",
    "    X, y = [], []\n",
    "    \n",
    "    for i in range(len(data) - seq_length):\n",
    "        X.append(feature_data[i:i+seq_length])\n",
    "        y.append(target_data[i+seq_length])\n",
    "    \n",
    "    return np.array(X), np.array(y)\n",
    "\n",
    "numeric_features = df_train_processed.columns.tolist()\n",
    "target_col = 'PJME_MW_scaled'\n",
    "target_idx = numeric_features.index(target_col)\n",
    "\n",
    "print(f\"Vị trí của target trong danh sách đặc trưng: {target_idx}\")\n",
    "\n",
    "X_train, y_train = create_sequences(df_train_processed, numeric_features, target_col, seq_length)\n",
    "X_val, y_val = create_sequences(df_val_processed, numeric_features, target_col, seq_length)\n",
    "X_test, y_test = create_sequences(df_test_processed, numeric_features, target_col, seq_length)\n",
    "\n",
    "print(f\"Hình dạng X_train: {X_train.shape}, y_train: {y_train.shape}\")\n",
    "print(f\"Hình dạng X_val: {X_val.shape}, y_val: {y_val.shape}\")\n",
    "print(f\"Hình dạng X_test: {X_test.shape}, y_test: {y_test.shape}\")"
   ]
  },
  {
   "cell_type": "code",
   "execution_count": 85,
   "metadata": {},
   "outputs": [],
   "source": [
    "early_stopping = EarlyStopping(\n",
    "    monitor='val_loss', \n",
    "    patience=5, \n",
    "    restore_best_weights=True,\n",
    "    verbose=1\n",
    ")\n",
    "\n",
    "reduce_lr = ReduceLROnPlateau(\n",
    "    monitor='val_loss',\n",
    "    factor=0.5,\n",
    "    patience=5,\n",
    "    min_lr=0.0001,\n",
    "    verbose=1\n",
    ")"
   ]
  },
  {
   "cell_type": "code",
   "execution_count": 87,
   "metadata": {},
   "outputs": [],
   "source": [
    "def build_conv_lstm_model(input_shape):\n",
    "    inputs = Input(shape=input_shape)\n",
    "    \n",
    "    conv1 = Conv1D(filters=128, kernel_size=3, activation='relu', padding='same')(inputs)\n",
    "    conv2 = Conv1D(filters=64, kernel_size=5, activation='relu', padding='same')(inputs)\n",
    "\n",
    "    conv_concat = tf.keras.layers.Concatenate()([conv1, conv2])\n",
    "    conv_bn = BatchNormalization()(conv_concat)\n",
    "\n",
    "    lstm1 = LSTM(64, activation='tanh', return_sequences=True, recurrent_dropout=0.01)(conv_bn)\n",
    "    lstm1 = LayerNormalization()(lstm1)\n",
    "  \n",
    "    attention = MultiHeadAttention(num_heads=8, key_dim=32)(lstm1, lstm1)\n",
    "    attention = Dropout(0.01)(attention)\n",
    "    attention = LayerNormalization()(attention + lstm1)  \n",
    " \n",
    "    lstm2 = LSTM(64, activation='tanh')(attention)\n",
    "    lstm2 = Dropout(0.01)(lstm2)\n",
    "\n",
    "    output = Dense(64, activation='relu', kernel_regularizer=tf.keras.regularizers.l2(0.001))(lstm2)\n",
    "    output = Dense(32, activation='relu')(output)\n",
    "    output = Dropout(0.01)(output)\n",
    "    output = Dense(1)(output)\n",
    "    \n",
    "    model = Model(inputs=inputs, outputs=output)\n",
    "    \n",
    "    lr_schedule = tf.keras.optimizers.schedules.CosineDecay(\n",
    "        initial_learning_rate=0.001,\n",
    "        decay_steps=10000,\n",
    "        alpha=0.0001\n",
    "    )\n",
    "    optimizer = Adam(learning_rate=lr_schedule)\n",
    "    model.compile(optimizer=optimizer, loss='mse', metrics=['mae'])\n",
    "    \n",
    "    return model"
   ]
  },
  {
   "cell_type": "code",
   "execution_count": 88,
   "metadata": {},
   "outputs": [
    {
     "name": "stdout",
     "output_type": "stream",
     "text": [
      "\n",
      "Xây dựng mô hình ConvLSTM...\n"
     ]
    },
    {
     "data": {
      "text/html": [
       "<pre style=\"white-space:pre;overflow-x:auto;line-height:normal;font-family:Menlo,'DejaVu Sans Mono',consolas,'Courier New',monospace\"><span style=\"font-weight: bold\">Model: \"functional_5\"</span>\n",
       "</pre>\n"
      ],
      "text/plain": [
       "\u001b[1mModel: \"functional_5\"\u001b[0m\n"
      ]
     },
     "metadata": {},
     "output_type": "display_data"
    },
    {
     "data": {
      "text/html": [
       "<pre style=\"white-space:pre;overflow-x:auto;line-height:normal;font-family:Menlo,'DejaVu Sans Mono',consolas,'Courier New',monospace\">┏━━━━━━━━━━━━━━━━━━━━━┳━━━━━━━━━━━━━━━━━━━┳━━━━━━━━━━━━┳━━━━━━━━━━━━━━━━━━━┓\n",
       "┃<span style=\"font-weight: bold\"> Layer (type)        </span>┃<span style=\"font-weight: bold\"> Output Shape      </span>┃<span style=\"font-weight: bold\">    Param # </span>┃<span style=\"font-weight: bold\"> Connected to      </span>┃\n",
       "┡━━━━━━━━━━━━━━━━━━━━━╇━━━━━━━━━━━━━━━━━━━╇━━━━━━━━━━━━╇━━━━━━━━━━━━━━━━━━━┩\n",
       "│ input_layer_5       │ (<span style=\"color: #00d7ff; text-decoration-color: #00d7ff\">None</span>, <span style=\"color: #00af00; text-decoration-color: #00af00\">24</span>, <span style=\"color: #00af00; text-decoration-color: #00af00\">15</span>)    │          <span style=\"color: #00af00; text-decoration-color: #00af00\">0</span> │ -                 │\n",
       "│ (<span style=\"color: #0087ff; text-decoration-color: #0087ff\">InputLayer</span>)        │                   │            │                   │\n",
       "├─────────────────────┼───────────────────┼────────────┼───────────────────┤\n",
       "│ conv1d_11 (<span style=\"color: #0087ff; text-decoration-color: #0087ff\">Conv1D</span>)  │ (<span style=\"color: #00d7ff; text-decoration-color: #00d7ff\">None</span>, <span style=\"color: #00af00; text-decoration-color: #00af00\">24</span>, <span style=\"color: #00af00; text-decoration-color: #00af00\">128</span>)   │      <span style=\"color: #00af00; text-decoration-color: #00af00\">5,888</span> │ input_layer_5[<span style=\"color: #00af00; text-decoration-color: #00af00\">0</span>]… │\n",
       "├─────────────────────┼───────────────────┼────────────┼───────────────────┤\n",
       "│ conv1d_12 (<span style=\"color: #0087ff; text-decoration-color: #0087ff\">Conv1D</span>)  │ (<span style=\"color: #00d7ff; text-decoration-color: #00d7ff\">None</span>, <span style=\"color: #00af00; text-decoration-color: #00af00\">24</span>, <span style=\"color: #00af00; text-decoration-color: #00af00\">64</span>)    │      <span style=\"color: #00af00; text-decoration-color: #00af00\">4,864</span> │ input_layer_5[<span style=\"color: #00af00; text-decoration-color: #00af00\">0</span>]… │\n",
       "├─────────────────────┼───────────────────┼────────────┼───────────────────┤\n",
       "│ concatenate_4       │ (<span style=\"color: #00d7ff; text-decoration-color: #00d7ff\">None</span>, <span style=\"color: #00af00; text-decoration-color: #00af00\">24</span>, <span style=\"color: #00af00; text-decoration-color: #00af00\">192</span>)   │          <span style=\"color: #00af00; text-decoration-color: #00af00\">0</span> │ conv1d_11[<span style=\"color: #00af00; text-decoration-color: #00af00\">0</span>][<span style=\"color: #00af00; text-decoration-color: #00af00\">0</span>],  │\n",
       "│ (<span style=\"color: #0087ff; text-decoration-color: #0087ff\">Concatenate</span>)       │                   │            │ conv1d_12[<span style=\"color: #00af00; text-decoration-color: #00af00\">0</span>][<span style=\"color: #00af00; text-decoration-color: #00af00\">0</span>]   │\n",
       "├─────────────────────┼───────────────────┼────────────┼───────────────────┤\n",
       "│ batch_normalizatio… │ (<span style=\"color: #00d7ff; text-decoration-color: #00d7ff\">None</span>, <span style=\"color: #00af00; text-decoration-color: #00af00\">24</span>, <span style=\"color: #00af00; text-decoration-color: #00af00\">192</span>)   │        <span style=\"color: #00af00; text-decoration-color: #00af00\">768</span> │ concatenate_4[<span style=\"color: #00af00; text-decoration-color: #00af00\">0</span>]… │\n",
       "│ (<span style=\"color: #0087ff; text-decoration-color: #0087ff\">BatchNormalizatio…</span> │                   │            │                   │\n",
       "├─────────────────────┼───────────────────┼────────────┼───────────────────┤\n",
       "│ lstm_10 (<span style=\"color: #0087ff; text-decoration-color: #0087ff\">LSTM</span>)      │ (<span style=\"color: #00d7ff; text-decoration-color: #00d7ff\">None</span>, <span style=\"color: #00af00; text-decoration-color: #00af00\">24</span>, <span style=\"color: #00af00; text-decoration-color: #00af00\">64</span>)    │     <span style=\"color: #00af00; text-decoration-color: #00af00\">65,792</span> │ batch_normalizat… │\n",
       "├─────────────────────┼───────────────────┼────────────┼───────────────────┤\n",
       "│ layer_normalizatio… │ (<span style=\"color: #00d7ff; text-decoration-color: #00d7ff\">None</span>, <span style=\"color: #00af00; text-decoration-color: #00af00\">24</span>, <span style=\"color: #00af00; text-decoration-color: #00af00\">64</span>)    │        <span style=\"color: #00af00; text-decoration-color: #00af00\">128</span> │ lstm_10[<span style=\"color: #00af00; text-decoration-color: #00af00\">0</span>][<span style=\"color: #00af00; text-decoration-color: #00af00\">0</span>]     │\n",
       "│ (<span style=\"color: #0087ff; text-decoration-color: #0087ff\">LayerNormalizatio…</span> │                   │            │                   │\n",
       "├─────────────────────┼───────────────────┼────────────┼───────────────────┤\n",
       "│ multi_head_attenti… │ (<span style=\"color: #00d7ff; text-decoration-color: #00d7ff\">None</span>, <span style=\"color: #00af00; text-decoration-color: #00af00\">24</span>, <span style=\"color: #00af00; text-decoration-color: #00af00\">64</span>)    │     <span style=\"color: #00af00; text-decoration-color: #00af00\">66,368</span> │ layer_normalizat… │\n",
       "│ (<span style=\"color: #0087ff; text-decoration-color: #0087ff\">MultiHeadAttentio…</span> │                   │            │ layer_normalizat… │\n",
       "├─────────────────────┼───────────────────┼────────────┼───────────────────┤\n",
       "│ dropout_21          │ (<span style=\"color: #00d7ff; text-decoration-color: #00d7ff\">None</span>, <span style=\"color: #00af00; text-decoration-color: #00af00\">24</span>, <span style=\"color: #00af00; text-decoration-color: #00af00\">64</span>)    │          <span style=\"color: #00af00; text-decoration-color: #00af00\">0</span> │ multi_head_atten… │\n",
       "│ (<span style=\"color: #0087ff; text-decoration-color: #0087ff\">Dropout</span>)           │                   │            │                   │\n",
       "├─────────────────────┼───────────────────┼────────────┼───────────────────┤\n",
       "│ add_5 (<span style=\"color: #0087ff; text-decoration-color: #0087ff\">Add</span>)         │ (<span style=\"color: #00d7ff; text-decoration-color: #00d7ff\">None</span>, <span style=\"color: #00af00; text-decoration-color: #00af00\">24</span>, <span style=\"color: #00af00; text-decoration-color: #00af00\">64</span>)    │          <span style=\"color: #00af00; text-decoration-color: #00af00\">0</span> │ dropout_21[<span style=\"color: #00af00; text-decoration-color: #00af00\">0</span>][<span style=\"color: #00af00; text-decoration-color: #00af00\">0</span>], │\n",
       "│                     │                   │            │ layer_normalizat… │\n",
       "├─────────────────────┼───────────────────┼────────────┼───────────────────┤\n",
       "│ layer_normalizatio… │ (<span style=\"color: #00d7ff; text-decoration-color: #00d7ff\">None</span>, <span style=\"color: #00af00; text-decoration-color: #00af00\">24</span>, <span style=\"color: #00af00; text-decoration-color: #00af00\">64</span>)    │        <span style=\"color: #00af00; text-decoration-color: #00af00\">128</span> │ add_5[<span style=\"color: #00af00; text-decoration-color: #00af00\">0</span>][<span style=\"color: #00af00; text-decoration-color: #00af00\">0</span>]       │\n",
       "│ (<span style=\"color: #0087ff; text-decoration-color: #0087ff\">LayerNormalizatio…</span> │                   │            │                   │\n",
       "├─────────────────────┼───────────────────┼────────────┼───────────────────┤\n",
       "│ lstm_11 (<span style=\"color: #0087ff; text-decoration-color: #0087ff\">LSTM</span>)      │ (<span style=\"color: #00d7ff; text-decoration-color: #00d7ff\">None</span>, <span style=\"color: #00af00; text-decoration-color: #00af00\">64</span>)        │     <span style=\"color: #00af00; text-decoration-color: #00af00\">33,024</span> │ layer_normalizat… │\n",
       "├─────────────────────┼───────────────────┼────────────┼───────────────────┤\n",
       "│ dropout_22          │ (<span style=\"color: #00d7ff; text-decoration-color: #00d7ff\">None</span>, <span style=\"color: #00af00; text-decoration-color: #00af00\">64</span>)        │          <span style=\"color: #00af00; text-decoration-color: #00af00\">0</span> │ lstm_11[<span style=\"color: #00af00; text-decoration-color: #00af00\">0</span>][<span style=\"color: #00af00; text-decoration-color: #00af00\">0</span>]     │\n",
       "│ (<span style=\"color: #0087ff; text-decoration-color: #0087ff\">Dropout</span>)           │                   │            │                   │\n",
       "├─────────────────────┼───────────────────┼────────────┼───────────────────┤\n",
       "│ dense_14 (<span style=\"color: #0087ff; text-decoration-color: #0087ff\">Dense</span>)    │ (<span style=\"color: #00d7ff; text-decoration-color: #00d7ff\">None</span>, <span style=\"color: #00af00; text-decoration-color: #00af00\">64</span>)        │      <span style=\"color: #00af00; text-decoration-color: #00af00\">4,160</span> │ dropout_22[<span style=\"color: #00af00; text-decoration-color: #00af00\">0</span>][<span style=\"color: #00af00; text-decoration-color: #00af00\">0</span>]  │\n",
       "├─────────────────────┼───────────────────┼────────────┼───────────────────┤\n",
       "│ dense_15 (<span style=\"color: #0087ff; text-decoration-color: #0087ff\">Dense</span>)    │ (<span style=\"color: #00d7ff; text-decoration-color: #00d7ff\">None</span>, <span style=\"color: #00af00; text-decoration-color: #00af00\">32</span>)        │      <span style=\"color: #00af00; text-decoration-color: #00af00\">2,080</span> │ dense_14[<span style=\"color: #00af00; text-decoration-color: #00af00\">0</span>][<span style=\"color: #00af00; text-decoration-color: #00af00\">0</span>]    │\n",
       "├─────────────────────┼───────────────────┼────────────┼───────────────────┤\n",
       "│ dropout_23          │ (<span style=\"color: #00d7ff; text-decoration-color: #00d7ff\">None</span>, <span style=\"color: #00af00; text-decoration-color: #00af00\">32</span>)        │          <span style=\"color: #00af00; text-decoration-color: #00af00\">0</span> │ dense_15[<span style=\"color: #00af00; text-decoration-color: #00af00\">0</span>][<span style=\"color: #00af00; text-decoration-color: #00af00\">0</span>]    │\n",
       "│ (<span style=\"color: #0087ff; text-decoration-color: #0087ff\">Dropout</span>)           │                   │            │                   │\n",
       "├─────────────────────┼───────────────────┼────────────┼───────────────────┤\n",
       "│ dense_16 (<span style=\"color: #0087ff; text-decoration-color: #0087ff\">Dense</span>)    │ (<span style=\"color: #00d7ff; text-decoration-color: #00d7ff\">None</span>, <span style=\"color: #00af00; text-decoration-color: #00af00\">1</span>)         │         <span style=\"color: #00af00; text-decoration-color: #00af00\">33</span> │ dropout_23[<span style=\"color: #00af00; text-decoration-color: #00af00\">0</span>][<span style=\"color: #00af00; text-decoration-color: #00af00\">0</span>]  │\n",
       "└─────────────────────┴───────────────────┴────────────┴───────────────────┘\n",
       "</pre>\n"
      ],
      "text/plain": [
       "┏━━━━━━━━━━━━━━━━━━━━━┳━━━━━━━━━━━━━━━━━━━┳━━━━━━━━━━━━┳━━━━━━━━━━━━━━━━━━━┓\n",
       "┃\u001b[1m \u001b[0m\u001b[1mLayer (type)       \u001b[0m\u001b[1m \u001b[0m┃\u001b[1m \u001b[0m\u001b[1mOutput Shape     \u001b[0m\u001b[1m \u001b[0m┃\u001b[1m \u001b[0m\u001b[1m   Param #\u001b[0m\u001b[1m \u001b[0m┃\u001b[1m \u001b[0m\u001b[1mConnected to     \u001b[0m\u001b[1m \u001b[0m┃\n",
       "┡━━━━━━━━━━━━━━━━━━━━━╇━━━━━━━━━━━━━━━━━━━╇━━━━━━━━━━━━╇━━━━━━━━━━━━━━━━━━━┩\n",
       "│ input_layer_5       │ (\u001b[38;5;45mNone\u001b[0m, \u001b[38;5;34m24\u001b[0m, \u001b[38;5;34m15\u001b[0m)    │          \u001b[38;5;34m0\u001b[0m │ -                 │\n",
       "│ (\u001b[38;5;33mInputLayer\u001b[0m)        │                   │            │                   │\n",
       "├─────────────────────┼───────────────────┼────────────┼───────────────────┤\n",
       "│ conv1d_11 (\u001b[38;5;33mConv1D\u001b[0m)  │ (\u001b[38;5;45mNone\u001b[0m, \u001b[38;5;34m24\u001b[0m, \u001b[38;5;34m128\u001b[0m)   │      \u001b[38;5;34m5,888\u001b[0m │ input_layer_5[\u001b[38;5;34m0\u001b[0m]… │\n",
       "├─────────────────────┼───────────────────┼────────────┼───────────────────┤\n",
       "│ conv1d_12 (\u001b[38;5;33mConv1D\u001b[0m)  │ (\u001b[38;5;45mNone\u001b[0m, \u001b[38;5;34m24\u001b[0m, \u001b[38;5;34m64\u001b[0m)    │      \u001b[38;5;34m4,864\u001b[0m │ input_layer_5[\u001b[38;5;34m0\u001b[0m]… │\n",
       "├─────────────────────┼───────────────────┼────────────┼───────────────────┤\n",
       "│ concatenate_4       │ (\u001b[38;5;45mNone\u001b[0m, \u001b[38;5;34m24\u001b[0m, \u001b[38;5;34m192\u001b[0m)   │          \u001b[38;5;34m0\u001b[0m │ conv1d_11[\u001b[38;5;34m0\u001b[0m][\u001b[38;5;34m0\u001b[0m],  │\n",
       "│ (\u001b[38;5;33mConcatenate\u001b[0m)       │                   │            │ conv1d_12[\u001b[38;5;34m0\u001b[0m][\u001b[38;5;34m0\u001b[0m]   │\n",
       "├─────────────────────┼───────────────────┼────────────┼───────────────────┤\n",
       "│ batch_normalizatio… │ (\u001b[38;5;45mNone\u001b[0m, \u001b[38;5;34m24\u001b[0m, \u001b[38;5;34m192\u001b[0m)   │        \u001b[38;5;34m768\u001b[0m │ concatenate_4[\u001b[38;5;34m0\u001b[0m]… │\n",
       "│ (\u001b[38;5;33mBatchNormalizatio…\u001b[0m │                   │            │                   │\n",
       "├─────────────────────┼───────────────────┼────────────┼───────────────────┤\n",
       "│ lstm_10 (\u001b[38;5;33mLSTM\u001b[0m)      │ (\u001b[38;5;45mNone\u001b[0m, \u001b[38;5;34m24\u001b[0m, \u001b[38;5;34m64\u001b[0m)    │     \u001b[38;5;34m65,792\u001b[0m │ batch_normalizat… │\n",
       "├─────────────────────┼───────────────────┼────────────┼───────────────────┤\n",
       "│ layer_normalizatio… │ (\u001b[38;5;45mNone\u001b[0m, \u001b[38;5;34m24\u001b[0m, \u001b[38;5;34m64\u001b[0m)    │        \u001b[38;5;34m128\u001b[0m │ lstm_10[\u001b[38;5;34m0\u001b[0m][\u001b[38;5;34m0\u001b[0m]     │\n",
       "│ (\u001b[38;5;33mLayerNormalizatio…\u001b[0m │                   │            │                   │\n",
       "├─────────────────────┼───────────────────┼────────────┼───────────────────┤\n",
       "│ multi_head_attenti… │ (\u001b[38;5;45mNone\u001b[0m, \u001b[38;5;34m24\u001b[0m, \u001b[38;5;34m64\u001b[0m)    │     \u001b[38;5;34m66,368\u001b[0m │ layer_normalizat… │\n",
       "│ (\u001b[38;5;33mMultiHeadAttentio…\u001b[0m │                   │            │ layer_normalizat… │\n",
       "├─────────────────────┼───────────────────┼────────────┼───────────────────┤\n",
       "│ dropout_21          │ (\u001b[38;5;45mNone\u001b[0m, \u001b[38;5;34m24\u001b[0m, \u001b[38;5;34m64\u001b[0m)    │          \u001b[38;5;34m0\u001b[0m │ multi_head_atten… │\n",
       "│ (\u001b[38;5;33mDropout\u001b[0m)           │                   │            │                   │\n",
       "├─────────────────────┼───────────────────┼────────────┼───────────────────┤\n",
       "│ add_5 (\u001b[38;5;33mAdd\u001b[0m)         │ (\u001b[38;5;45mNone\u001b[0m, \u001b[38;5;34m24\u001b[0m, \u001b[38;5;34m64\u001b[0m)    │          \u001b[38;5;34m0\u001b[0m │ dropout_21[\u001b[38;5;34m0\u001b[0m][\u001b[38;5;34m0\u001b[0m], │\n",
       "│                     │                   │            │ layer_normalizat… │\n",
       "├─────────────────────┼───────────────────┼────────────┼───────────────────┤\n",
       "│ layer_normalizatio… │ (\u001b[38;5;45mNone\u001b[0m, \u001b[38;5;34m24\u001b[0m, \u001b[38;5;34m64\u001b[0m)    │        \u001b[38;5;34m128\u001b[0m │ add_5[\u001b[38;5;34m0\u001b[0m][\u001b[38;5;34m0\u001b[0m]       │\n",
       "│ (\u001b[38;5;33mLayerNormalizatio…\u001b[0m │                   │            │                   │\n",
       "├─────────────────────┼───────────────────┼────────────┼───────────────────┤\n",
       "│ lstm_11 (\u001b[38;5;33mLSTM\u001b[0m)      │ (\u001b[38;5;45mNone\u001b[0m, \u001b[38;5;34m64\u001b[0m)        │     \u001b[38;5;34m33,024\u001b[0m │ layer_normalizat… │\n",
       "├─────────────────────┼───────────────────┼────────────┼───────────────────┤\n",
       "│ dropout_22          │ (\u001b[38;5;45mNone\u001b[0m, \u001b[38;5;34m64\u001b[0m)        │          \u001b[38;5;34m0\u001b[0m │ lstm_11[\u001b[38;5;34m0\u001b[0m][\u001b[38;5;34m0\u001b[0m]     │\n",
       "│ (\u001b[38;5;33mDropout\u001b[0m)           │                   │            │                   │\n",
       "├─────────────────────┼───────────────────┼────────────┼───────────────────┤\n",
       "│ dense_14 (\u001b[38;5;33mDense\u001b[0m)    │ (\u001b[38;5;45mNone\u001b[0m, \u001b[38;5;34m64\u001b[0m)        │      \u001b[38;5;34m4,160\u001b[0m │ dropout_22[\u001b[38;5;34m0\u001b[0m][\u001b[38;5;34m0\u001b[0m]  │\n",
       "├─────────────────────┼───────────────────┼────────────┼───────────────────┤\n",
       "│ dense_15 (\u001b[38;5;33mDense\u001b[0m)    │ (\u001b[38;5;45mNone\u001b[0m, \u001b[38;5;34m32\u001b[0m)        │      \u001b[38;5;34m2,080\u001b[0m │ dense_14[\u001b[38;5;34m0\u001b[0m][\u001b[38;5;34m0\u001b[0m]    │\n",
       "├─────────────────────┼───────────────────┼────────────┼───────────────────┤\n",
       "│ dropout_23          │ (\u001b[38;5;45mNone\u001b[0m, \u001b[38;5;34m32\u001b[0m)        │          \u001b[38;5;34m0\u001b[0m │ dense_15[\u001b[38;5;34m0\u001b[0m][\u001b[38;5;34m0\u001b[0m]    │\n",
       "│ (\u001b[38;5;33mDropout\u001b[0m)           │                   │            │                   │\n",
       "├─────────────────────┼───────────────────┼────────────┼───────────────────┤\n",
       "│ dense_16 (\u001b[38;5;33mDense\u001b[0m)    │ (\u001b[38;5;45mNone\u001b[0m, \u001b[38;5;34m1\u001b[0m)         │         \u001b[38;5;34m33\u001b[0m │ dropout_23[\u001b[38;5;34m0\u001b[0m][\u001b[38;5;34m0\u001b[0m]  │\n",
       "└─────────────────────┴───────────────────┴────────────┴───────────────────┘\n"
      ]
     },
     "metadata": {},
     "output_type": "display_data"
    },
    {
     "data": {
      "text/html": [
       "<pre style=\"white-space:pre;overflow-x:auto;line-height:normal;font-family:Menlo,'DejaVu Sans Mono',consolas,'Courier New',monospace\"><span style=\"font-weight: bold\"> Total params: </span><span style=\"color: #00af00; text-decoration-color: #00af00\">183,233</span> (715.75 KB)\n",
       "</pre>\n"
      ],
      "text/plain": [
       "\u001b[1m Total params: \u001b[0m\u001b[38;5;34m183,233\u001b[0m (715.75 KB)\n"
      ]
     },
     "metadata": {},
     "output_type": "display_data"
    },
    {
     "data": {
      "text/html": [
       "<pre style=\"white-space:pre;overflow-x:auto;line-height:normal;font-family:Menlo,'DejaVu Sans Mono',consolas,'Courier New',monospace\"><span style=\"font-weight: bold\"> Trainable params: </span><span style=\"color: #00af00; text-decoration-color: #00af00\">182,849</span> (714.25 KB)\n",
       "</pre>\n"
      ],
      "text/plain": [
       "\u001b[1m Trainable params: \u001b[0m\u001b[38;5;34m182,849\u001b[0m (714.25 KB)\n"
      ]
     },
     "metadata": {},
     "output_type": "display_data"
    },
    {
     "data": {
      "text/html": [
       "<pre style=\"white-space:pre;overflow-x:auto;line-height:normal;font-family:Menlo,'DejaVu Sans Mono',consolas,'Courier New',monospace\"><span style=\"font-weight: bold\"> Non-trainable params: </span><span style=\"color: #00af00; text-decoration-color: #00af00\">384</span> (1.50 KB)\n",
       "</pre>\n"
      ],
      "text/plain": [
       "\u001b[1m Non-trainable params: \u001b[0m\u001b[38;5;34m384\u001b[0m (1.50 KB)\n"
      ]
     },
     "metadata": {},
     "output_type": "display_data"
    }
   ],
   "source": [
    "input_shape = (X_train.shape[1], X_train.shape[2])\n",
    "print(\"\\nXây dựng mô hình ConvLSTM...\")\n",
    "conv_lstm_model = build_conv_lstm_model(input_shape)\n",
    "conv_lstm_model.summary()"
   ]
  },
  {
   "cell_type": "code",
   "execution_count": 89,
   "metadata": {},
   "outputs": [
    {
     "name": "stdout",
     "output_type": "stream",
     "text": [
      "Epoch 1/30\n",
      "\u001b[1m3180/3180\u001b[0m \u001b[32m━━━━━━━━━━━━━━━━━━━━\u001b[0m\u001b[37m\u001b[0m \u001b[1m128s\u001b[0m 39ms/step - loss: 0.0211 - mae: 0.0318 - val_loss: 2.9026e-04 - val_mae: 0.0104 - learning_rate: 7.7058e-04\n",
      "Epoch 2/30\n",
      "\u001b[1m3180/3180\u001b[0m \u001b[32m━━━━━━━━━━━━━━━━━━━━\u001b[0m\u001b[37m\u001b[0m \u001b[1m107s\u001b[0m 34ms/step - loss: 7.5763e-04 - mae: 0.0198 - val_loss: 1.5778e-04 - val_mae: 0.0079 - learning_rate: 2.9288e-04\n",
      "Epoch 3/30\n",
      "\u001b[1m3180/3180\u001b[0m \u001b[32m━━━━━━━━━━━━━━━━━━━━\u001b[0m\u001b[37m\u001b[0m \u001b[1m118s\u001b[0m 37ms/step - loss: 5.1656e-04 - mae: 0.0166 - val_loss: 1.1412e-04 - val_mae: 0.0066 - learning_rate: 5.3114e-06\n",
      "Epoch 4/30\n",
      "\u001b[1m3180/3180\u001b[0m \u001b[32m━━━━━━━━━━━━━━━━━━━━\u001b[0m\u001b[37m\u001b[0m \u001b[1m128s\u001b[0m 40ms/step - loss: 4.2795e-04 - mae: 0.0151 - val_loss: 1.1005e-04 - val_mae: 0.0063 - learning_rate: 1.0000e-07\n",
      "Epoch 5/30\n",
      "\u001b[1m3180/3180\u001b[0m \u001b[32m━━━━━━━━━━━━━━━━━━━━\u001b[0m\u001b[37m\u001b[0m \u001b[1m126s\u001b[0m 40ms/step - loss: 4.2824e-04 - mae: 0.0151 - val_loss: 1.0957e-04 - val_mae: 0.0063 - learning_rate: 1.0000e-07\n",
      "Epoch 6/30\n",
      "\u001b[1m3180/3180\u001b[0m \u001b[32m━━━━━━━━━━━━━━━━━━━━\u001b[0m\u001b[37m\u001b[0m \u001b[1m115s\u001b[0m 36ms/step - loss: 4.2785e-04 - mae: 0.0151 - val_loss: 1.0930e-04 - val_mae: 0.0063 - learning_rate: 1.0000e-07\n",
      "Epoch 7/30\n",
      "\u001b[1m3180/3180\u001b[0m \u001b[32m━━━━━━━━━━━━━━━━━━━━\u001b[0m\u001b[37m\u001b[0m \u001b[1m121s\u001b[0m 38ms/step - loss: 4.2400e-04 - mae: 0.0151 - val_loss: 1.0902e-04 - val_mae: 0.0063 - learning_rate: 1.0000e-07\n",
      "Epoch 8/30\n",
      "\u001b[1m3180/3180\u001b[0m \u001b[32m━━━━━━━━━━━━━━━━━━━━\u001b[0m\u001b[37m\u001b[0m \u001b[1m115s\u001b[0m 36ms/step - loss: 4.2524e-04 - mae: 0.0151 - val_loss: 1.0879e-04 - val_mae: 0.0063 - learning_rate: 1.0000e-07\n",
      "Epoch 9/30\n",
      "\u001b[1m3180/3180\u001b[0m \u001b[32m━━━━━━━━━━━━━━━━━━━━\u001b[0m\u001b[37m\u001b[0m \u001b[1m112s\u001b[0m 35ms/step - loss: 4.3166e-04 - mae: 0.0152 - val_loss: 1.0871e-04 - val_mae: 0.0063 - learning_rate: 1.0000e-07\n",
      "Epoch 10/30\n",
      "\u001b[1m3180/3180\u001b[0m \u001b[32m━━━━━━━━━━━━━━━━━━━━\u001b[0m\u001b[37m\u001b[0m \u001b[1m111s\u001b[0m 35ms/step - loss: 4.2806e-04 - mae: 0.0151 - val_loss: 1.0862e-04 - val_mae: 0.0063 - learning_rate: 1.0000e-07\n",
      "Epoch 11/30\n",
      "\u001b[1m3180/3180\u001b[0m \u001b[32m━━━━━━━━━━━━━━━━━━━━\u001b[0m\u001b[37m\u001b[0m \u001b[1m123s\u001b[0m 39ms/step - loss: 4.2922e-04 - mae: 0.0151 - val_loss: 1.0846e-04 - val_mae: 0.0063 - learning_rate: 1.0000e-07\n",
      "Epoch 12/30\n",
      "\u001b[1m3180/3180\u001b[0m \u001b[32m━━━━━━━━━━━━━━━━━━━━\u001b[0m\u001b[37m\u001b[0m \u001b[1m122s\u001b[0m 38ms/step - loss: 4.3336e-04 - mae: 0.0152 - val_loss: 1.0841e-04 - val_mae: 0.0063 - learning_rate: 1.0000e-07\n",
      "Epoch 13/30\n",
      "\u001b[1m3180/3180\u001b[0m \u001b[32m━━━━━━━━━━━━━━━━━━━━\u001b[0m\u001b[37m\u001b[0m \u001b[1m124s\u001b[0m 39ms/step - loss: 4.2466e-04 - mae: 0.0151 - val_loss: 1.0828e-04 - val_mae: 0.0063 - learning_rate: 1.0000e-07\n",
      "Epoch 14/30\n",
      "\u001b[1m3180/3180\u001b[0m \u001b[32m━━━━━━━━━━━━━━━━━━━━\u001b[0m\u001b[37m\u001b[0m \u001b[1m120s\u001b[0m 38ms/step - loss: 4.2640e-04 - mae: 0.0151 - val_loss: 1.0813e-04 - val_mae: 0.0063 - learning_rate: 1.0000e-07\n",
      "Epoch 15/30\n",
      "\u001b[1m3180/3180\u001b[0m \u001b[32m━━━━━━━━━━━━━━━━━━━━\u001b[0m\u001b[37m\u001b[0m \u001b[1m182s\u001b[0m 57ms/step - loss: 4.2916e-04 - mae: 0.0151 - val_loss: 1.0805e-04 - val_mae: 0.0063 - learning_rate: 1.0000e-07\n",
      "Epoch 16/30\n",
      "\u001b[1m3180/3180\u001b[0m \u001b[32m━━━━━━━━━━━━━━━━━━━━\u001b[0m\u001b[37m\u001b[0m \u001b[1m122s\u001b[0m 38ms/step - loss: 4.2361e-04 - mae: 0.0151 - val_loss: 1.0798e-04 - val_mae: 0.0062 - learning_rate: 1.0000e-07\n",
      "Epoch 17/30\n",
      "\u001b[1m3180/3180\u001b[0m \u001b[32m━━━━━━━━━━━━━━━━━━━━\u001b[0m\u001b[37m\u001b[0m \u001b[1m106s\u001b[0m 33ms/step - loss: 4.2585e-04 - mae: 0.0151 - val_loss: 1.0798e-04 - val_mae: 0.0062 - learning_rate: 1.0000e-07\n",
      "Epoch 18/30\n",
      "\u001b[1m3180/3180\u001b[0m \u001b[32m━━━━━━━━━━━━━━━━━━━━\u001b[0m\u001b[37m\u001b[0m \u001b[1m107s\u001b[0m 34ms/step - loss: 4.2779e-04 - mae: 0.0151 - val_loss: 1.0791e-04 - val_mae: 0.0062 - learning_rate: 1.0000e-07\n",
      "Epoch 19/30\n",
      "\u001b[1m3180/3180\u001b[0m \u001b[32m━━━━━━━━━━━━━━━━━━━━\u001b[0m\u001b[37m\u001b[0m \u001b[1m114s\u001b[0m 36ms/step - loss: 4.2877e-04 - mae: 0.0151 - val_loss: 1.0784e-04 - val_mae: 0.0062 - learning_rate: 1.0000e-07\n",
      "Epoch 20/30\n",
      "\u001b[1m3180/3180\u001b[0m \u001b[32m━━━━━━━━━━━━━━━━━━━━\u001b[0m\u001b[37m\u001b[0m \u001b[1m112s\u001b[0m 35ms/step - loss: 4.3105e-04 - mae: 0.0151 - val_loss: 1.0783e-04 - val_mae: 0.0062 - learning_rate: 1.0000e-07\n",
      "Epoch 21/30\n",
      "\u001b[1m3180/3180\u001b[0m \u001b[32m━━━━━━━━━━━━━━━━━━━━\u001b[0m\u001b[37m\u001b[0m \u001b[1m106s\u001b[0m 33ms/step - loss: 4.2697e-04 - mae: 0.0151 - val_loss: 1.0778e-04 - val_mae: 0.0062 - learning_rate: 1.0000e-07\n",
      "Epoch 22/30\n",
      "\u001b[1m3180/3180\u001b[0m \u001b[32m━━━━━━━━━━━━━━━━━━━━\u001b[0m\u001b[37m\u001b[0m \u001b[1m111s\u001b[0m 35ms/step - loss: 4.2729e-04 - mae: 0.0151 - val_loss: 1.0774e-04 - val_mae: 0.0062 - learning_rate: 1.0000e-07\n",
      "Epoch 23/30\n",
      "\u001b[1m3180/3180\u001b[0m \u001b[32m━━━━━━━━━━━━━━━━━━━━\u001b[0m\u001b[37m\u001b[0m \u001b[1m112s\u001b[0m 35ms/step - loss: 4.2559e-04 - mae: 0.0151 - val_loss: 1.0773e-04 - val_mae: 0.0062 - learning_rate: 1.0000e-07\n",
      "Epoch 24/30\n",
      "\u001b[1m3180/3180\u001b[0m \u001b[32m━━━━━━━━━━━━━━━━━━━━\u001b[0m\u001b[37m\u001b[0m \u001b[1m109s\u001b[0m 34ms/step - loss: 4.2446e-04 - mae: 0.0151 - val_loss: 1.0769e-04 - val_mae: 0.0062 - learning_rate: 1.0000e-07\n",
      "Epoch 25/30\n",
      "\u001b[1m3180/3180\u001b[0m \u001b[32m━━━━━━━━━━━━━━━━━━━━\u001b[0m\u001b[37m\u001b[0m \u001b[1m110s\u001b[0m 34ms/step - loss: 4.2261e-04 - mae: 0.0150 - val_loss: 1.0758e-04 - val_mae: 0.0062 - learning_rate: 1.0000e-07\n",
      "Epoch 26/30\n",
      "\u001b[1m3180/3180\u001b[0m \u001b[32m━━━━━━━━━━━━━━━━━━━━\u001b[0m\u001b[37m\u001b[0m \u001b[1m114s\u001b[0m 36ms/step - loss: 4.2470e-04 - mae: 0.0151 - val_loss: 1.0757e-04 - val_mae: 0.0062 - learning_rate: 1.0000e-07\n",
      "Epoch 27/30\n",
      "\u001b[1m3180/3180\u001b[0m \u001b[32m━━━━━━━━━━━━━━━━━━━━\u001b[0m\u001b[37m\u001b[0m \u001b[1m109s\u001b[0m 34ms/step - loss: 4.2520e-04 - mae: 0.0151 - val_loss: 1.0743e-04 - val_mae: 0.0062 - learning_rate: 1.0000e-07\n",
      "Epoch 28/30\n",
      "\u001b[1m3180/3180\u001b[0m \u001b[32m━━━━━━━━━━━━━━━━━━━━\u001b[0m\u001b[37m\u001b[0m \u001b[1m100s\u001b[0m 31ms/step - loss: 4.2433e-04 - mae: 0.0151 - val_loss: 1.0734e-04 - val_mae: 0.0062 - learning_rate: 1.0000e-07\n",
      "Epoch 29/30\n",
      "\u001b[1m3180/3180\u001b[0m \u001b[32m━━━━━━━━━━━━━━━━━━━━\u001b[0m\u001b[37m\u001b[0m \u001b[1m108s\u001b[0m 34ms/step - loss: 4.2485e-04 - mae: 0.0150 - val_loss: 1.0737e-04 - val_mae: 0.0062 - learning_rate: 1.0000e-07\n",
      "Epoch 30/30\n",
      "\u001b[1m3180/3180\u001b[0m \u001b[32m━━━━━━━━━━━━━━━━━━━━\u001b[0m\u001b[37m\u001b[0m \u001b[1m111s\u001b[0m 35ms/step - loss: 4.2713e-04 - mae: 0.0151 - val_loss: 1.0734e-04 - val_mae: 0.0062 - learning_rate: 1.0000e-07\n",
      "Restoring model weights from the end of the best epoch: 28.\n"
     ]
    }
   ],
   "source": [
    "history = conv_lstm_model.fit(\n",
    "    X_train, y_train,\n",
    "    validation_data=(X_val, y_val),\n",
    "    epochs=30,\n",
    "    batch_size=32,\n",
    "    callbacks=[early_stopping, reduce_lr],\n",
    "    verbose=1\n",
    ")"
   ]
  },
  {
   "cell_type": "code",
   "execution_count": 90,
   "metadata": {},
   "outputs": [],
   "source": [
    "# Đánh giá mô hình\n",
    "def evaluate_model(model, X, y):\n",
    "    y_pred = model.predict(X)\n",
    "    \n",
    "    y_pred_original = target_scaler.inverse_transform(y_pred)\n",
    "    y_original = target_scaler.inverse_transform(y.reshape(-1, 1))\n",
    "    \n",
    "    rmse = np.sqrt(mean_squared_error(y_original, y_pred_original))\n",
    "    mae = mean_absolute_error(y_original, y_pred_original)\n",
    "    mape = np.mean(np.abs((y_original - y_pred_original) / y_original)) * 100\n",
    "    \n",
    "    print(f\"- RMSE: {rmse:.2f}\")\n",
    "    print(f\"- MAE: {mae:.2f}\")\n",
    "    print(f\"- MAPE: {mape:.2f}%\")\n",
    "    \n",
    "    return rmse, mae, mape"
   ]
  },
  {
   "cell_type": "code",
   "execution_count": 91,
   "metadata": {},
   "outputs": [
    {
     "name": "stdout",
     "output_type": "stream",
     "text": [
      "\n",
      "Đánh giá mô hình ConvLSTM...\n",
      "\u001b[1m3180/3180\u001b[0m \u001b[32m━━━━━━━━━━━━━━━━━━━━\u001b[0m\u001b[37m\u001b[0m \u001b[1m26s\u001b[0m 8ms/step\n",
      "Đánh giá trên tập huấn luyện:\n",
      "- RMSE: 386.64\n",
      "- MAE: 282.14\n",
      "- MAPE: 0.87%\n",
      "\u001b[1m681/681\u001b[0m \u001b[32m━━━━━━━━━━━━━━━━━━━━\u001b[0m\u001b[37m\u001b[0m \u001b[1m5s\u001b[0m 8ms/step\n",
      "Đánh giá trên tập xác thực:\n",
      "- RMSE: 404.03\n",
      "- MAE: 295.21\n",
      "- MAPE: 0.94%\n",
      "\u001b[1m681/681\u001b[0m \u001b[32m━━━━━━━━━━━━━━━━━━━━\u001b[0m\u001b[37m\u001b[0m \u001b[1m5s\u001b[0m 8ms/step\n",
      "Đánh giá trên tập kiểm tra:\n",
      "- RMSE: 405.34\n",
      "- MAE: 298.02\n",
      "- MAPE: 0.96%\n"
     ]
    }
   ],
   "source": [
    "print(\"\\nĐánh giá mô hình ConvLSTM...\")\n",
    "train_metrics = evaluate_model(conv_lstm_model, X_train, y_train, \"huấn luyện\")\n",
    "val_metrics = evaluate_model(conv_lstm_model, X_val, y_val, \"xác thực\")\n",
    "test_metrics = evaluate_model(conv_lstm_model, X_test, y_test, \"kiểm tra\")"
   ]
  }
 ],
 "metadata": {
  "kernelspec": {
   "display_name": "Python 3",
   "language": "python",
   "name": "python3"
  },
  "language_info": {
   "codemirror_mode": {
    "name": "ipython",
    "version": 3
   },
   "file_extension": ".py",
   "mimetype": "text/x-python",
   "name": "python",
   "nbconvert_exporter": "python",
   "pygments_lexer": "ipython3",
   "version": "3.9.6"
  }
 },
 "nbformat": 4,
 "nbformat_minor": 2
}
